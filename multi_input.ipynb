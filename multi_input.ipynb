{
 "cells": [
  {
   "cell_type": "code",
   "execution_count": 1,
   "id": "a3effa2e",
   "metadata": {},
   "outputs": [],
   "source": [
    "# !pip install dotenv\n",
    "# !pip install pygraphviz"
   ]
  },
  {
   "cell_type": "code",
   "execution_count": 2,
   "id": "22bd186b",
   "metadata": {},
   "outputs": [],
   "source": [
    "from typing import TypedDict, List, Annotated\n",
    "from langgraph.graph import StateGraph, END\n",
    "from dotenv import load_dotenv\n",
    "import operator, os\n",
    "from langchain_core.messages import AnyMessage, SystemMessage, HumanMessage, ToolMessage\n",
    "from langchain_openai import ChatOpenAI\n",
    "from langchain_community.tools.tavily_search import TavilySearchResults"
   ]
  },
  {
   "cell_type": "code",
   "execution_count": 3,
   "id": "d0bb26d4",
   "metadata": {},
   "outputs": [],
   "source": [
    "load_dotenv()\n",
    "TAVILY_API_KEY=os.getenv(\"TAVILY_API_KEY\")\n",
    "OPENAI_API_KEY=os.getenv(\"OPENAI_API_KEY\")"
   ]
  },
  {
   "cell_type": "code",
   "execution_count": 4,
   "id": "6f9c333d",
   "metadata": {},
   "outputs": [
    {
     "name": "stderr",
     "output_type": "stream",
     "text": [
      "C:\\Users\\Digital Technologies\\AppData\\Local\\Temp\\ipykernel_9132\\159487971.py:1: LangChainDeprecationWarning: The class `TavilySearchResults` was deprecated in LangChain 0.3.25 and will be removed in 1.0. An updated version of the class exists in the :class:`~langchain-tavily package and should be used instead. To use it run `pip install -U :class:`~langchain-tavily` and import as `from :class:`~langchain_tavily import TavilySearch``.\n",
      "  tool = TavilySearchResults(tavily_api_key=TAVILY_API_KEY,max_results=3)\n"
     ]
    }
   ],
   "source": [
    "tool = TavilySearchResults(tavily_api_key=TAVILY_API_KEY,max_results=3)"
   ]
  },
  {
   "cell_type": "code",
   "execution_count": 5,
   "id": "dbe6f1fa",
   "metadata": {},
   "outputs": [],
   "source": [
    "class AgentState(TypedDict):\n",
    "    messages: Annotated[List[AnyMessage], operator.add]"
   ]
  },
  {
   "cell_type": "code",
   "execution_count": 6,
   "id": "12394e0d",
   "metadata": {},
   "outputs": [],
   "source": [
    "class Agent:\n",
    "\n",
    "    def __init__(self, model, tools, system=\"\"):\n",
    "        self.system = system\n",
    "        graph = StateGraph(AgentState)\n",
    "        graph.add_node(\"llm\", self.call_openai)\n",
    "        graph.add_node(\"action\", self.take_action)\n",
    "        graph.add_conditional_edges(\n",
    "            \"llm\",\n",
    "            self.exists_action,\n",
    "            {True: \"action\", False: END}\n",
    "        )\n",
    "        graph.add_edge(\"action\", \"llm\")\n",
    "        graph.set_entry_point(\"llm\")\n",
    "        self.graph = graph.compile()\n",
    "        self.tools = {t.name: t for t in tools}\n",
    "        self.model = model.bind_tools(tools)\n",
    "\n",
    "    def exists_action(self, state: AgentState):\n",
    "        result = state['messages'][-1]\n",
    "        return len(result.tool_calls) > 0\n",
    "\n",
    "    def call_openai(self, state: AgentState):\n",
    "        messages = state['messages']\n",
    "        if self.system:\n",
    "            messages = [SystemMessage(content=self.system)] + messages\n",
    "        message = self.model.invoke(messages)\n",
    "        return {'messages': [message]}\n",
    "\n",
    "    def take_action(self, state: AgentState):\n",
    "        tool_calls = state['messages'][-1].tool_calls\n",
    "        results = []\n",
    "        for t in tool_calls:\n",
    "            print(f\"Calling: {t}\")\n",
    "            if not t['name'] in self.tools:      # check for bad tool name from LLM\n",
    "                print(\"\\n ....bad tool name....\")\n",
    "                result = \"bad tool name, retry\"  # instruct LLM to retry if bad\n",
    "            else:\n",
    "                result = self.tools[t['name']].invoke(t['args'])\n",
    "            results.append(ToolMessage(tool_call_id=t['id'], name=t['name'], content=str(result)))\n",
    "        print(\"Back to the model!\")\n",
    "        return {'messages': results}"
   ]
  },
  {
   "cell_type": "code",
   "execution_count": 7,
   "id": "c73cbca8",
   "metadata": {},
   "outputs": [],
   "source": [
    "prompt = \"\"\"You are a smart research assistant. Use the search engine to look up information. \\\n",
    "You are allowed to make multiple calls (either together or in sequence). \\\n",
    "Only look up information when you are sure of what you want. \\\n",
    "If you need to look up some information before asking a follow up question, you are allowed to do that!\n",
    "\"\"\"\n",
    "\n",
    "model = ChatOpenAI(model=\"gpt-3.5-turbo\")  #reduce inference cost\n",
    "abot = Agent(model, [tool], system=prompt)"
   ]
  },
  {
   "cell_type": "code",
   "execution_count": 9,
   "id": "4809dc61",
   "metadata": {},
   "outputs": [
    {
     "data": {
      "image/png": "[encoded data removed]",
      "text/plain": [
       "<IPython.core.display.Image object>"
      ]
     },
     "execution_count": 9,
     "metadata": {},
     "output_type": "execute_result"
    }
   ],
   "source": [
    "from IPython.display import Image\n",
    "\n",
    "Image(abot.graph.get_graph().draw_mermaid_png())"
   ]
  },
  {
   "cell_type": "code",
   "execution_count": 10,
   "id": "5ae3cc55",
   "metadata": {},
   "outputs": [
    {
     "name": "stdout",
     "output_type": "stream",
     "text": [
      "Calling: {'name': 'tavily_search_results_json', 'args': {'query': 'weather in San Francisco'}, 'id': 'call_YiLNsi4zATUGb9wpcT5OlHED', 'type': 'tool_call'}\n",
      "Back to the model!\n"
     ]
    },
    {
     "data": {
      "text/plain": [
       "{'messages': [HumanMessage(content='What is the weather in sf?', additional_kwargs={}, response_metadata={}),\n",
       "  AIMessage(content='', additional_kwargs={'tool_calls': [{'id': 'call_YiLNsi4zATUGb9wpcT5OlHED', 'function': {'arguments': '{\"query\":\"weather in San Francisco\"}', 'name': 'tavily_search_results_json'}, 'type': 'function'}], 'refusal': None}, response_metadata={'token_usage': {'completion_tokens': 21, 'prompt_tokens': 153, 'total_tokens': 174, 'completion_tokens_details': {'accepted_prediction_tokens': 0, 'audio_tokens': 0, 'reasoning_tokens': 0, 'rejected_prediction_tokens': 0}, 'prompt_tokens_details': {'audio_tokens': 0, 'cached_tokens': 0}}, 'model_name': 'gpt-3.5-turbo-0125', 'system_fingerprint': None, 'id': 'chatcmpl-C705VpYGBH09MH08kyDlDIKkLxmHE', 'service_tier': 'default', 'finish_reason': 'tool_calls', 'logprobs': None}, id='run--00356f14-7707-4f50-b13b-f7c19aaa680e-0', tool_calls=[{'name': 'tavily_search_results_json', 'args': {'query': 'weather in San Francisco'}, 'id': 'call_YiLNsi4zATUGb9wpcT5OlHED', 'type': 'tool_call'}], usage_metadata={'input_tokens': 153, 'output_tokens': 21, 'total_tokens': 174, 'input_token_details': {'audio': 0, 'cache_read': 0}, 'output_token_details': {'audio': 0, 'reasoning': 0}}),\n",
       "  ToolMessage(content=\"[{'title': 'Weather San Francisco in August 2025: Temperature & Climate', 'url': 'https://en.climate-data.org/north-america/united-states-of-america/california/san-francisco-385/t/august-8/', 'content': '| Max. Temperature °C (°F) | 14 °C  (57.3) °F | 14.9 °C  (58.7) °F | 16.2 °C  (61.2) °F | 17.4 °C  (63.3) °F | 19.2 °C  (66.5) °F | 21.5 °C  (70.8) °F | 21.8 °C  (71.2) °F | 22.2 °C  (71.9) °F | 23.1 °C  (73.6) °F | 21.3 °C  (70.3) °F | 17.1 °C  (62.8) °F | 13.9 °C  (57.1) °F |\\\\n| Precipitation / Rainfall mm (in) | 113  (4) | 118  (4) | 83  (3) | 40  (1) | 21  (0) | 6  (0) | 2  (0) | 2  (0) | 3  (0) | 25  (0) | 57  (2) | 111  (4) | [...] 21.3\\\\n\\\\n(70.3)\\\\n\\\\n25\\\\n\\\\n(1)\\\\n\\\\n12.4\\\\n\\\\n(54.4)\\\\n\\\\n9\\\\n\\\\n(48.2)\\\\n\\\\n17.1\\\\n\\\\n(62.8)\\\\n\\\\n57\\\\n\\\\n(2.2)\\\\n\\\\n9.9\\\\n\\\\n(49.8)\\\\n\\\\n6.8\\\\n\\\\n(44.2)\\\\n\\\\n13.9\\\\n\\\\n(57.1)\\\\n\\\\n111\\\\n\\\\n(4.4) [...] | Min. Temperature °C (°F) | 6.2 °C  (43.2) °F | 7.1 °C  (44.8) °F | 8.2 °C  (46.8) °F | 8.9 °C  (48.1) °F | 10.3 °C  (50.6) °F | 11.8 °C  (53.3) °F | 12.7 °C  (54.9) °F | 13.3 °C  (55.9) °F | 13.1 °C  (55.6) °F | 11.9 °C  (53.4) °F | 9 °C  (48.2) °F | 6.8 °C  (44.2) °F |', 'score': 0.8703443}, {'title': 'San Francisco weather in August 2025 | Weather25.com', 'url': 'https://www.weather25.com/north-america/usa/california/san-francisco?page=month&month=August', 'content': '| 24 Image 51: Sunny 66°/57° | 25 Image 52: Sunny 68°/57° | 26 Image 53: Sunny 64°/57° | 27 Image 54: Partly cloudy 73°/57° | 28 Image 55: Sunny 73°/59° | 29 Image 56: Sunny 71°/59° | 30 Image 57: Sunny 73°/59° |\\\\n| 31 Image 58: Sunny 71°/59° |  |  |  |  |  |  | [...] | Sun | Mon | Tue | Wed | Thu | Fri | Sat |\\\\n| --- | --- | --- | --- | --- | --- | --- |\\\\n|  |  |  |  |  | 1 Image 28: Partly cloudy 66°/55° | 2 Image 29: Partly cloudy 68°/55° |\\\\n| 3 Image 30: Sunny 69°/57° | 4 Image 31: Partly cloudy 66°/55° | 5 Image 32: Mist 66°/55° | 6 Image 33: Sunny 69°/55° | 7 Image 34: Partly cloudy 68°/55° | 8 Image 35: Sunny 68°/55° | 9 Image 36: Partly cloudy 68°/55° | [...] | 10 Image 37: Sunny 68°/57° | 11 Image 38: Sunny 68°/57° | 12 Image 39: Partly cloudy 69°/57° | 13 Image 40: Mist 59°/55° | 14 Image 41: Mist 59°/55° | 15 Image 42: Mist 64°/55° | 16 Image 43: Patchy rain possible 66°/59° |\\\\n| 17 Image 44: Sunny 66°/59° | 18 Image 45: Sunny 68°/59° | 19 Image 46: Sunny 68°/59° | 20 Image 47: Sunny 68°/57° | 21 Image 48: Patchy rain possible 66°/57° | 22 Image 49: Patchy rain possible 66°/57° | 23 Image 50: Patchy rain possible 64°/57° |', 'score': 0.8573986}, {'title': 'August 2025 Weather History in San Francisco California, United ...', 'url': 'https://weatherspark.com/h/m/557/2025/8/Historical-Weather-in-August-2025-in-San-Francisco-California-United-States', 'content': 'Cloudy  1,800 ft   |  |  | | --- | --- | |  | Mostly Clear 600 ft |   |  |  | | --- | --- | | Vis. | 10.00 mi or greater | | Alt. | 29.96 inHg |  Raw: KSFO 141556Z 34004KT 10SM FEW006 SCT018 17/13 A2996 RMK AO2 SLP145 T01720128  This report shows the past weather for San Francisco, providing a weather history for August 2025. It features all historical weather data series we have available, including the San Francisco temperature history for August 2025. You can drill down from year to month [...] PM | WNW | 10:57 PM | ENE | 5:23 AM | S | 229,476 mi | | 15 |  | 50% | - | | 1:42 PM | WNW | 11:34 PM | ENE | 6:15 AM | S | 229,581 mi | | 16 |  | 46% | - | | 2:57 PM | WNW | - | | 7:11 AM | S | 230,052 mi | | 17 |  | 34% | 12:19 AM | NE | 4:08 PM | NW | - | | 8:11 AM | S | 230,851 mi | | 18 |  | 23% | 1:13 AM | NE | 5:12 PM | NW | - | | 9:12 AM | S | 231,964 mi | | 19 |  | 14% | 2:17 AM | NE | 6:05 PM | NW | - | | 10:13 AM | S | 233,395 mi | | 20 |  | 7% | 3:26 AM | ENE | 6:48 PM | WNW | - | | [...] 11:11 AM | S | 235,146 mi | | 21 |  | 2% | 4:38 AM | ENE | 7:23 PM | WNW | - | | 12:05 PM | S | 237,199 mi | | 22 |  | 0% | 5:47 AM | ENE | 7:51 PM | WNW | - | | 12:53 PM | S | 239,503 mi | | 23 |  | 0% | 6:54 AM | ENE | 8:16 PM | W | - | | 1:38 PM | S | 241,965 mi | | 24 |  | 3% | 7:57 AM | E | 8:39 PM | W | - | | 2:20 PM | S | 244,451 mi | | 25 |  | 7% | 8:59 AM | E | 9:00 PM | W | - | | 3:01 PM | S | 246,794 mi | | 26 |  | 13% | 9:59 AM | E | 9:22 PM | WSW | - | | 3:41 PM | S | 248,817 mi |', 'score': 0.8194462}]\", name='tavily_search_results_json', tool_call_id='call_YiLNsi4zATUGb9wpcT5OlHED'),\n",
       "  AIMessage(content='The weather in San Francisco for August 2025 ranges from a minimum temperature of 6.8°C (44.2°F) to a maximum temperature of 23.1°C (73.6°F). There is also information about precipitation levels and historical weather data available. If you would like more specific details or current weather information, please let me know.', additional_kwargs={'refusal': None}, response_metadata={'token_usage': {'completion_tokens': 74, 'prompt_tokens': 2213, 'total_tokens': 2287, 'completion_tokens_details': {'accepted_prediction_tokens': 0, 'audio_tokens': 0, 'reasoning_tokens': 0, 'rejected_prediction_tokens': 0}, 'prompt_tokens_details': {'audio_tokens': 0, 'cached_tokens': 0}}, 'model_name': 'gpt-3.5-turbo-0125', 'system_fingerprint': None, 'id': 'chatcmpl-C705cQO2uXvRBVs3MTViMPhsrF0jD', 'service_tier': 'default', 'finish_reason': 'stop', 'logprobs': None}, id='run--019e5bca-9ae4-4561-abb8-9e5c14dbe430-0', usage_metadata={'input_tokens': 2213, 'output_tokens': 74, 'total_tokens': 2287, 'input_token_details': {'audio': 0, 'cache_read': 0}, 'output_token_details': {'audio': 0, 'reasoning': 0}})]}"
      ]
     },
     "execution_count": 10,
     "metadata": {},
     "output_type": "execute_result"
    }
   ],
   "source": [
    "messages = [HumanMessage(content=\"What is the weather in sf?\")]\n",
    "result = abot.graph.invoke({\"messages\": messages})\n",
    "result"
   ]
  },
  {
   "cell_type": "code",
   "execution_count": 11,
   "id": "41c8373c",
   "metadata": {},
   "outputs": [
    {
     "data": {
      "text/plain": [
       "'The weather in San Francisco for August 2025 ranges from a minimum temperature of 6.8°C (44.2°F) to a maximum temperature of 23.1°C (73.6°F). There is also information about precipitation levels and historical weather data available. If you would like more specific details or current weather information, please let me know.'"
      ]
     },
     "execution_count": 11,
     "metadata": {},
     "output_type": "execute_result"
    }
   ],
   "source": [
    "result['messages'][-1].content"
   ]
  },
  {
   "cell_type": "code",
   "execution_count": 14,
   "id": "15072666",
   "metadata": {},
   "outputs": [
    {
     "name": "stdout",
     "output_type": "stream",
     "text": [
      "Calling: {'name': 'tavily_search_results_json', 'args': {'query': 'weather in San Francisco'}, 'id': 'call_cmPgnDyBdbK2hkfvNym42HZS', 'type': 'tool_call'}\n",
      "Calling: {'name': 'tavily_search_results_json', 'args': {'query': 'weather in Los Angeles'}, 'id': 'call_hGc3JMBFCh3R2nc2auvfdX2O', 'type': 'tool_call'}\n",
      "Back to the model!\n"
     ]
    },
    {
     "data": {
      "text/plain": [
       "'The weather in San Francisco for August 2025 shows a maximum temperature ranging from 13.9°C (57.1°F) to 23.1°C (73.6°F), with precipitation levels varying throughout the month. You can find more detailed information about the weather in San Francisco on [Climate-Data.org](https://en.climate-data.org/north-america/united-states-of-america/california/san-francisco-385/t/august-8/).\\n\\nOn the other hand, Los Angeles is experiencing hot weather in August 2025 with average temperatures between 69°F and 87°F. The weather varies from sunny days to partly cloudy and even patchy rain. For further details, you can visit [Weather25.com](https://www.weather25.com/north-america/usa/california/los-angeles?page=month&month=August).'"
      ]
     },
     "execution_count": 14,
     "metadata": {},
     "output_type": "execute_result"
    }
   ],
   "source": [
    "messages = [HumanMessage(content=\"What is the weather in SF and LA ?\")]\n",
    "result = abot.graph.invoke({\"messages\": messages})\n",
    "result['messages'][-1].content"
   ]
  },
  {
   "cell_type": "code",
   "execution_count": 15,
   "id": "e569c6d2",
   "metadata": {},
   "outputs": [
    {
     "name": "stdout",
     "output_type": "stream",
     "text": [
      "Calling: {'name': 'tavily_search_results_json', 'args': {'query': '2024 Super Bowl winner'}, 'id': 'call_yykzeyFXg9K8Y2dbESCBwDRn', 'type': 'tool_call'}\n",
      "Back to the model!\n",
      "Calling: {'name': 'tavily_search_results_json', 'args': {'query': 'Kansas City Chiefs headquarters location'}, 'id': 'call_Nd6VmYdUFvOd96Zifl5iU3tK', 'type': 'tool_call'}\n",
      "Calling: {'name': 'tavily_search_results_json', 'args': {'query': 'GDP of Missouri 2024'}, 'id': 'call_lxKRAT4YNfO8hzvdFsUA6gP8', 'type': 'tool_call'}\n",
      "Back to the model!\n"
     ]
    }
   ],
   "source": [
    "# Note, the query was modified to produce more consistent results. \n",
    "# Results may vary per run and over time as search information and models change.\n",
    "\n",
    "query = \"Who won the super bowl in 2024? In what state is the winning team headquarters located? \\\n",
    "What is the GDP of that state? Answer each question.\" \n",
    "messages = [HumanMessage(content=query)]\n",
    "\n",
    "model = ChatOpenAI(model=\"gpt-4o\")  # requires more advanced model\n",
    "abot = Agent(model, [tool], system=prompt)\n",
    "result = abot.graph.invoke({\"messages\": messages})"
   ]
  },
  {
   "cell_type": "code",
   "execution_count": 16,
   "id": "cd0c9976",
   "metadata": {},
   "outputs": [
    {
     "name": "stdout",
     "output_type": "stream",
     "text": [
      "1. The Kansas City Chiefs won the Super Bowl in 2024.\n",
      "\n",
      "2. The headquarters of the Kansas City Chiefs is located in Kansas City, Missouri.\n",
      "\n",
      "3. The GDP of Missouri in 2023 was approximately $348.49 billion in inflation-adjusted (chained 2017) dollars, according to estimates from the U.S. Bureau of Economic Analysis. The data for 2024 would likely be slightly higher, considering the trend of a 1.9 percent increase from 2022 to 2023.\n"
     ]
    }
   ],
   "source": [
    "print(result['messages'][-1].content)"
   ]
  },
  {
   "cell_type": "code",
   "execution_count": null,
   "id": "7c02d1cc",
   "metadata": {},
   "outputs": [],
   "source": []
  }
 ],
 "metadata": {
  "kernelspec": {
   "display_name": "base",
   "language": "python",
   "name": "python3"
  },
  "language_info": {
   "codemirror_mode": {
    "name": "ipython",
    "version": 3
   },
   "file_extension": ".py",
   "mimetype": "text/x-python",
   "name": "python",
   "nbconvert_exporter": "python",
   "pygments_lexer": "ipython3",
   "version": "3.12.7"
  }
 },
 "nbformat": 4,
 "nbformat_minor": 5
}
