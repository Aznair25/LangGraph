{
 "cells": [
  {
   "cell_type": "code",
   "execution_count": 38,
   "id": "4ff28d79",
   "metadata": {},
   "outputs": [],
   "source": [
    "from langgraph.graph import StateGraph\n",
    "from typing import TypedDict, List"
   ]
  },
  {
   "cell_type": "code",
   "execution_count": 67,
   "id": "408a504e",
   "metadata": {},
   "outputs": [],
   "source": [
    "class AgentState(TypedDict):\n",
    "    \"\"\"State for the agent.\"\"\"\n",
    "    num: List[int]\n",
    "    name: str\n",
    "    operator: str\n",
    "    result: str"
   ]
  },
  {
   "cell_type": "code",
   "execution_count": 74,
   "id": "0d98a34c",
   "metadata": {},
   "outputs": [],
   "source": [
    "def exercise(state: AgentState):\n",
    "    if state[\"operator\"] == \"+\":\n",
    "        result = f\"Hi {state['name']}, your answer is {sum(state['num'])}\"\n",
    "    elif state[\"operator\"] == \"-\":\n",
    "        result = f\"Hi {state['name']}, your answer is {state['num'][0] - sum(state['num'][1:])}\"\n",
    "    elif state[\"operator\"] == \"*\":\n",
    "        # Multiply all numbers together\n",
    "        product = 1\n",
    "        for num in state['num']:\n",
    "            if num == 0:\n",
    "                result = f\"Hi {state['name']}, multiplication by zero is always zero\"\n",
    "                break\n",
    "            product *= num\n",
    "        result = f\"Hi {state['name']}, your answer is {product}\"\n",
    "    elif state[\"operator\"] == \"/\":\n",
    "        # Divide first number by all subsequent numbers\n",
    "        quotient = state['num'][0]\n",
    "        for num in state['num'][1:]:\n",
    "            if num == 0:\n",
    "                result = f\"Hi {state['name']}, division by zero is not allowed\"\n",
    "                break\n",
    "            quotient /= num\n",
    "        else:\n",
    "            result = f\"Hi {state['name']}, your answer is {quotient}\"\n",
    "    else:\n",
    "        result = f\"Hi {state['name']}, unsupported operator: {state['operator']}\"\n",
    "    \n",
    "    # Return a dictionary with the state updates\n",
    "    return {\"result\": result}\n"
   ]
  },
  {
   "cell_type": "code",
   "execution_count": 75,
   "id": "4fd9251a",
   "metadata": {},
   "outputs": [],
   "source": [
    "graph=StateGraph(AgentState)\n",
    "graph.add_node(\"exercise\", exercise)\n",
    "graph.set_entry_point(\"exercise\")\n",
    "graph.set_finish_point(\"exercise\")\n",
    "app=graph.compile()"
   ]
  },
  {
   "cell_type": "code",
   "execution_count": 76,
   "id": "810ac8dd",
   "metadata": {},
   "outputs": [
    {
     "data": {
      "image/png": "[encoded data removed]",
      "text/plain": [
       "<IPython.core.display.Image object>"
      ]
     },
     "metadata": {},
     "output_type": "display_data"
    }
   ],
   "source": [
    "from IPython.display import display, Image\n",
    "display(Image(app.get_graph().draw_mermaid_png()))"
   ]
  },
  {
   "cell_type": "code",
   "execution_count": 79,
   "id": "4d27e20e",
   "metadata": {},
   "outputs": [],
   "source": [
    "result=app.invoke({\"num\": [1, 0, 9], \"name\": \"Alice\", \"operator\": \"*\"})"
   ]
  },
  {
   "cell_type": "code",
   "execution_count": 80,
   "id": "0a341826",
   "metadata": {},
   "outputs": [
    {
     "data": {
      "text/plain": [
       "'Hi Alice, your answer is 1'"
      ]
     },
     "execution_count": 80,
     "metadata": {},
     "output_type": "execute_result"
    }
   ],
   "source": [
    "result[\"result\"]"
   ]
  },
  {
   "cell_type": "code",
   "execution_count": null,
   "id": "34f8ba3f",
   "metadata": {},
   "outputs": [],
   "source": []
  }
 ],
 "metadata": {
  "kernelspec": {
   "display_name": "base",
   "language": "python",
   "name": "python3"
  },
  "language_info": {
   "codemirror_mode": {
    "name": "ipython",
    "version": 3
   },
   "file_extension": ".py",
   "mimetype": "text/x-python",
   "name": "python",
   "nbconvert_exporter": "python",
   "pygments_lexer": "ipython3",
   "version": "3.12.7"
  }
 },
 "nbformat": 4,
 "nbformat_minor": 5
}
